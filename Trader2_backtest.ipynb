{
 "cells": [
  {
   "cell_type": "code",
   "execution_count": 39,
   "metadata": {},
   "outputs": [],
   "source": [
    "import pandas as pd\n",
    "import numpy as np\n",
    "import tpqoa\n",
    "from datetime import datetime, timedelta\n",
    "import time\n",
    "import pickle\n",
    "import pymysql\n",
    "import uuid\n",
    "from statsmodels.tsa.arima.model import ARIMA\n",
    "from tensorflow import keras\n",
    "import matplotlib.pyplot as plt\n",
    "from itertools import product\n",
    "plt.style.use(\"seaborn\")\n",
    "\n",
    "DNN = keras.models.load_model('DNN_model_3')\n",
    "LR = pickle.load(open('Logistic_Regression_model.sav', \"rb\"))\n",
    "RF = pickle.load(open('Random_Forest_3.sav', \"rb\"))\n",
    "params = pickle.load(open(\"params.pkl\", \"rb\"))\n",
    "mu = params['mu']\n",
    "std = params['std']"
   ]
  },
  {
   "cell_type": "code",
   "execution_count": 69,
   "metadata": {},
   "outputs": [],
   "source": [
    "symbol = \"EUR_USD_Ask\"\n",
    "start = \"2020-01-01\"\n",
    "end = \"2021-12-31\"\n",
    "tc = 0.000059\n",
    "#granularity = '10min'"
   ]
  },
  {
   "cell_type": "code",
   "execution_count": 70,
   "metadata": {},
   "outputs": [],
   "source": [
    "def get_data():\n",
    "    raw = pd.read_csv(\"DNN_Data_2017_2021_MIN_FOR_TRADER.csv\", parse_dates = [\"time\"], index_col = \"time\")\n",
    "    raw = raw[\"c\"].to_frame().dropna() \n",
    "    #raw = raw.loc[f'{start} 00:00:00': f'{end} 23:59:00'].copy()\n",
    "    raw.rename(columns={\"c\": \"price\"}, inplace=True)\n",
    "    #raw = raw.resample(granularity, label='right').last().ffill().iloc[:-1]\n",
    "    raw[\"returns\"] = np.log(raw / raw.shift(1))\n",
    "    data = raw\n",
    "    return data"
   ]
  },
  {
   "cell_type": "code",
   "execution_count": 79,
   "metadata": {},
   "outputs": [],
   "source": [
    "dataset_new = get_data()"
   ]
  },
  {
   "cell_type": "code",
   "execution_count": 80,
   "metadata": {},
   "outputs": [],
   "source": [
    "dataset_new.dropna(inplace=True)"
   ]
  },
  {
   "cell_type": "code",
   "execution_count": 81,
   "metadata": {},
   "outputs": [
    {
     "data": {
      "text/html": [
       "<div>\n",
       "<style scoped>\n",
       "    .dataframe tbody tr th:only-of-type {\n",
       "        vertical-align: middle;\n",
       "    }\n",
       "\n",
       "    .dataframe tbody tr th {\n",
       "        vertical-align: top;\n",
       "    }\n",
       "\n",
       "    .dataframe thead th {\n",
       "        text-align: right;\n",
       "    }\n",
       "</style>\n",
       "<table border=\"1\" class=\"dataframe\">\n",
       "  <thead>\n",
       "    <tr style=\"text-align: right;\">\n",
       "      <th></th>\n",
       "      <th>price</th>\n",
       "      <th>returns</th>\n",
       "    </tr>\n",
       "    <tr>\n",
       "      <th>time</th>\n",
       "      <th></th>\n",
       "      <th></th>\n",
       "    </tr>\n",
       "  </thead>\n",
       "  <tbody>\n",
       "    <tr>\n",
       "      <th>2017-01-02 23:01:00</th>\n",
       "      <td>1.04707</td>\n",
       "      <td>0.000086</td>\n",
       "    </tr>\n",
       "    <tr>\n",
       "      <th>2017-01-02 23:02:00</th>\n",
       "      <td>1.04691</td>\n",
       "      <td>-0.000153</td>\n",
       "    </tr>\n",
       "    <tr>\n",
       "      <th>2017-01-02 23:03:00</th>\n",
       "      <td>1.04692</td>\n",
       "      <td>0.000010</td>\n",
       "    </tr>\n",
       "    <tr>\n",
       "      <th>2017-01-02 23:04:00</th>\n",
       "      <td>1.04669</td>\n",
       "      <td>-0.000220</td>\n",
       "    </tr>\n",
       "    <tr>\n",
       "      <th>2017-01-02 23:05:00</th>\n",
       "      <td>1.04686</td>\n",
       "      <td>0.000162</td>\n",
       "    </tr>\n",
       "    <tr>\n",
       "      <th>...</th>\n",
       "      <td>...</td>\n",
       "      <td>...</td>\n",
       "    </tr>\n",
       "    <tr>\n",
       "      <th>2021-12-30 23:55:00</th>\n",
       "      <td>1.13244</td>\n",
       "      <td>-0.000018</td>\n",
       "    </tr>\n",
       "    <tr>\n",
       "      <th>2021-12-30 23:56:00</th>\n",
       "      <td>1.13233</td>\n",
       "      <td>-0.000097</td>\n",
       "    </tr>\n",
       "    <tr>\n",
       "      <th>2021-12-30 23:57:00</th>\n",
       "      <td>1.13232</td>\n",
       "      <td>-0.000009</td>\n",
       "    </tr>\n",
       "    <tr>\n",
       "      <th>2021-12-30 23:58:00</th>\n",
       "      <td>1.13226</td>\n",
       "      <td>-0.000053</td>\n",
       "    </tr>\n",
       "    <tr>\n",
       "      <th>2021-12-30 23:59:00</th>\n",
       "      <td>1.13231</td>\n",
       "      <td>0.000044</td>\n",
       "    </tr>\n",
       "  </tbody>\n",
       "</table>\n",
       "<p>1772210 rows × 2 columns</p>\n",
       "</div>"
      ],
      "text/plain": [
       "                       price   returns\n",
       "time                                  \n",
       "2017-01-02 23:01:00  1.04707  0.000086\n",
       "2017-01-02 23:02:00  1.04691 -0.000153\n",
       "2017-01-02 23:03:00  1.04692  0.000010\n",
       "2017-01-02 23:04:00  1.04669 -0.000220\n",
       "2017-01-02 23:05:00  1.04686  0.000162\n",
       "...                      ...       ...\n",
       "2021-12-30 23:55:00  1.13244 -0.000018\n",
       "2021-12-30 23:56:00  1.13233 -0.000097\n",
       "2021-12-30 23:57:00  1.13232 -0.000009\n",
       "2021-12-30 23:58:00  1.13226 -0.000053\n",
       "2021-12-30 23:59:00  1.13231  0.000044\n",
       "\n",
       "[1772210 rows x 2 columns]"
      ]
     },
     "execution_count": 81,
     "metadata": {},
     "output_type": "execute_result"
    }
   ],
   "source": [
    "dataset_new"
   ]
  },
  {
   "cell_type": "code",
   "execution_count": 82,
   "metadata": {},
   "outputs": [],
   "source": [
    "lags =5\n",
    "dataset = dataset_new.copy()\n",
    "\n",
    "dataset[\"dir\"] = np.where(dataset[\"returns\"] > 0, 1, -1)\n",
    "dataset[\"sma\"] = dataset['price'].rolling(50).mean() - dataset['price'].rolling(150).mean()\n",
    "dataset[\"boll\"] = (dataset['price'] - dataset['price'].rolling(50).mean()) / dataset['price'].rolling(50).std()\n",
    "dataset[\"min\"] = dataset['price'].rolling(50).min() / dataset['price'] - 1\n",
    "dataset[\"max\"] = dataset['price'].rolling(50).max() / dataset['price'] - 1\n",
    "dataset[\"mom\"] = dataset[\"returns\"].rolling(3).mean()\n",
    "dataset[\"vol\"] = dataset[\"returns\"].rolling(50).std()\n",
    "dataset.dropna(inplace = True)\n",
    "\n",
    "cols = []\n",
    "features = [\"dir\", \"sma\", \"boll\", \"min\", \"max\", \"mom\", \"vol\"]\n",
    "\n",
    "for f in features:\n",
    "    for lag in range(1, lags + 1):\n",
    "        col = \"{}_lag_{}\".format(f, lag)\n",
    "        dataset[col] = dataset[f].shift(lag)\n",
    "        cols.append(col)\n",
    "dataset.dropna(inplace = True)\n",
    "\n",
    "df_s = (dataset - mu) / std\n",
    "\n",
    "#df_s.replace([np.inf, -np.inf], np.nan, inplace=True)\n",
    "#df_s.dropna(inplace=True)\n",
    "dataset[\"proba\"] = DNN.predict(df_s[cols])\n",
    "dataset[\"LR_position\"] = LR.predict(df_s[cols])\n",
    "dataset[\"RF_position\"] = RF.predict(df_s[cols])\n",
    "\n",
    "dataset[\"DNN_position\"] = np.where(dataset.proba < 0.50, -1, np.nan)\n",
    "dataset[\"DNN_position\"] = np.where(dataset.proba > 0.51, 1, dataset.DNN_position)\n",
    "dataset[\"DNN_position\"] = dataset.DNN_position.ffill().fillna(0)\n",
    "\n",
    "dataset['position'] = np.sign(dataset['LR_position'] + dataset['DNN_position'] + dataset['RF_position'])"
   ]
  },
  {
   "cell_type": "code",
   "execution_count": 83,
   "metadata": {},
   "outputs": [],
   "source": [
    "dataset[\"strategy\"] = dataset[\"position\"].shift(1) * dataset[\"returns\"]\n",
    "dataset.dropna(inplace=True)\n",
    "dataset[\"trades\"] = dataset.position.diff().fillna(0).abs()\n",
    "dataset['strategy_net'] = dataset.strategy - dataset.trades * tc\n",
    "dataset[\"creturns\"] = dataset[\"returns\"].cumsum().apply(np.exp)\n",
    "dataset[\"cstrategy\"] = dataset[\"strategy\"].cumsum().apply(np.exp)\n",
    "dataset[\"cstrategy_net\"] = dataset[\"strategy_net\"].cumsum().apply(np.exp)"
   ]
  },
  {
   "cell_type": "code",
   "execution_count": 84,
   "metadata": {},
   "outputs": [
    {
     "data": {
      "image/png": "[encoded data removed]",
      "text/plain": [
       "<Figure size 864x576 with 1 Axes>"
      ]
     },
     "metadata": {
      "needs_background": "light"
     },
     "output_type": "display_data"
    }
   ],
   "source": [
    "dataset[['creturns', 'cstrategy', 'cstrategy_net']].plot(figsize = (12,8), fontsize =12)\n",
    "plt.legend(fontsize = 12)\n",
    "plt.show()"
   ]
  },
  {
   "cell_type": "code",
   "execution_count": null,
   "metadata": {},
   "outputs": [],
   "source": []
  }
 ],
 "metadata": {
  "kernelspec": {
   "display_name": "Python 3 (ipykernel)",
   "language": "python",
   "name": "python3"
  },
  "language_info": {
   "codemirror_mode": {
    "name": "ipython",
    "version": 3
   },
   "file_extension": ".py",
   "mimetype": "text/x-python",
   "name": "python",
   "nbconvert_exporter": "python",
   "pygments_lexer": "ipython3",
   "version": "3.8.5"
  },
  "vscode": {
   "interpreter": {
    "hash": "86fa636a97a68de1f920003e7e9e389b331e275388cad657fb5caed71d48ab43"
   }
  },
  "widgets": {
   "application/vnd.jupyter.widget-state+json": {
    "state": {},
    "version_major": 2,
    "version_minor": 0
   }
  }
 },
 "nbformat": 4,
 "nbformat_minor": 2
}
