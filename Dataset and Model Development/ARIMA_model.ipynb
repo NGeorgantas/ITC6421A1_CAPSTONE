{
 "cells": [
  {
   "cell_type": "code",
   "execution_count": 2,
   "id": "89c8ba99",
   "metadata": {},
   "outputs": [],
   "source": [
    "import numpy as np\n",
    "import pandas as pd\n",
    "import tpqoa\n",
    "import matplotlib.pyplot as plt\n",
    "%matplotlib inline\n",
    "from statsmodels.tsa.stattools import adfuller\n",
    "from pandas.plotting import autocorrelation_plot\n",
    "from statsmodels.graphics.tsaplots import plot_acf,plot_pacf\n",
    "from pandas.tseries.offsets import DateOffset\n",
    "from sklearn.linear_model import LinearRegression\n",
    "import pickle\n",
    "from statsmodels.tsa.arima.model import ARIMA\n",
    "from math import sqrt\n",
    "from sklearn.metrics import mean_squared_error,mean_absolute_error,mean_absolute_percentage_error"
   ]
  },
  {
   "cell_type": "code",
   "execution_count": 3,
   "id": "00ad484e",
   "metadata": {},
   "outputs": [],
   "source": [
    "class ARIMA_Model():\n",
    "    \n",
    "    def __init__(self,symbol, start, end, granularity, price):\n",
    "        self.symbol = symbol\n",
    "        self.start = start\n",
    "        self.end = end\n",
    "        self.granularity = granularity\n",
    "        self.price = price\n",
    "        self.api = tpqoa.tpqoa(\"oanda.cfg\")\n",
    "        self.get_data()\n",
    "        self.price_return('Close_Price')\n",
    "        self.volatility_graph()\n",
    "        self.histogram()\n",
    "        self.dickey_fuller_test()\n",
    "        self.dickey_fuller_test(1)\n",
    "        self.acf_pacf_plot(30)\n",
    "\n",
    "    def get_data(self):\n",
    "        self.raw = self.api.get_history(instrument = self.symbol,start = self.start, end = self.end, \n",
    "                                        granularity = self.granularity, price = self.price)\n",
    "        self.data = self.raw.copy()\n",
    "        self.data.rename(columns={'c':'Close_Price'},inplace=True)\n",
    "        self.data['log_returns'] = np.log(self.data['Close_Price']/self.data['Close_Price'].shift(1))\n",
    "        self.data.dropna(inplace=True)\n",
    "\n",
    "    def price_return(self,col):\n",
    "        self.data[col].plot(figsize=(12,8),fontsize=15)\n",
    "        plt.legend(loc='upper right',fontsize=15)\n",
    "        plt.ylabel('Return',fontsize=20)\n",
    "        plt.title(f'{self.symbol} Return',fontsize=20)\n",
    "        plt.show()\n",
    "        \n",
    "    def volatility_graph(self):\n",
    "        self.data['log_returns'].plot(figsize=(12,8),fontsize=15)\n",
    "        plt.legend(loc='upper right',fontsize=15)\n",
    "        plt.ylabel('Return',fontsize=20)\n",
    "        plt.title(f'{self.symbol} Volatility',fontsize=20)\n",
    "        plt.show()\n",
    "        \n",
    "    def histogram(self):\n",
    "        self.data['log_returns'].hist(figsize=(12,8),bins=int(np.sqrt(len(self.data))))\n",
    "        plt.title(f'{self.symbol} Distribution of Returns',fontsize=20)\n",
    "        \n",
    "    def dickey_fuller_test(self,lags=0):\n",
    "        self.lags = lags\n",
    "        #self.dicful_data = self.data.copy()\n",
    "        if lags!=0:\n",
    "            self.data[f'{self.lags}_difference'] = self.data['Close_Price'] - self.data['Close_Price'].shift(self.lags)\n",
    "            self.data.dropna(inplace=True)\n",
    "            result=adfuller(self.data[f'{self.lags}_difference'])\n",
    "        else:\n",
    "            result=adfuller(self.data['Close_Price'])\n",
    "        labels = ['ADF Test Statistic','p-value','#Lags Used','Number of Observations Used']\n",
    "        print(f'ADF Unit Root Test Lags {self.lags}')\n",
    "        for value,label in zip(result,labels):\n",
    "            print(label+' : '+str(value) )\n",
    "        if result[1] <= 0.05:\n",
    "            print(f\"Lags = {lags}, strong evidence against the null hypothesis(Ho), reject the null hypothesis. Data has no unit root and is stationary\")\n",
    "        else:\n",
    "            print(f\"Lags = {lags}, weak evidence against null hypothesis, time series has a unit root, indicating it is non-stationary \")\n",
    "        print(' ')\n",
    "    \n",
    "    def acf_pacf_plot(self,dflags):\n",
    "        fig = plt.figure(figsize=(12,8))\n",
    "        ax1 = fig.add_subplot(211)\n",
    "        fig = plot_acf(self.data[f'{self.lags}_difference']**2,lags=dflags,ax=ax1)\n",
    "        ax2 = fig.add_subplot(212)\n",
    "        fig = plot_pacf(self.data[f'{self.lags}_difference']**2,lags=dflags,ax=ax2)\n",
    "        \n",
    "    def model_training(self,p,q):\n",
    "        self.p = p\n",
    "        self.q = q\n",
    "        self.model = ARIMA(self.data['Close_Price'],order=(self.p,self.lags,self.q))\n",
    "        self.model_fit=self.model.fit()\n",
    "        print(self.model_fit.summary())\n",
    "        filename = f'{self.symbol}_ARIMA_{self.p}-{self.lags}-{self.q}_{self.start}_{self.end}_{self.granularity}.sav'\n",
    "        pickle.dump(self.model_fit, open(filename, 'wb'))\n",
    "        \n",
    "    def load_model(self,filename):\n",
    "        self.model_fit = pickle.load(open(filename, 'rb'))\n",
    "        \n",
    "    def model_eval(self,st=0,en=0):\n",
    "        if st == 0 and en == 0:\n",
    "            self.data['forecast'] = self.model_fit.predict(dynamic = True)\n",
    "        else:\n",
    "            self.data['forecast'] = self.model_fit.predict(start = st,end = en,dynamic = True)\n",
    "        self.data[['Close_Price','forecast']].plot(figsize=(12,8))\n",
    "        \n",
    "    def RMSE_Rolling_Forecast(self,train_size,p,q):\n",
    "        self.p = p\n",
    "        self.q = q\n",
    "        self.X = self.data['Close_Price'].values\n",
    "        size = int(len(self.X) * train_size)\n",
    "        self.train, self.test = self.X[0:size], self.X[size:len(self.X)]\n",
    "        history = [x for x in self.train]\n",
    "        self.predictions = list()\n",
    "        for t in range(len(self.test)):\n",
    "            model = ARIMA(history, order=(self.p,self.lags,self.q))\n",
    "            model_fit = model.fit()\n",
    "            output = model_fit.forecast()\n",
    "            yhat = output[0]\n",
    "            self.predictions.append(yhat)\n",
    "            obs = self.test[t]\n",
    "            history.append(obs)\n",
    "            print('predicted=%f, expected=%f' % (yhat, obs))\n",
    "        # evaluate forecasts\n",
    "        rmse = sqrt(mean_squared_error(self.test, self.predictions))\n",
    "        mae = mean_absolute_error(self.test, self.predictions)\n",
    "        mape = mean_absolute_percentage_error(self.test, self.predictions)\n",
    "        print('Test RMSE: %.3f' % rmse)\n",
    "        print('Test MAE: %.3f' % mae)\n",
    "        print('Test MAPE: %.3f' % mape)\n",
    "        # plot forecasts against actual outcomes\n",
    "        plt.figure(figsize=(12,8))\n",
    "        plt.plot(self.test)\n",
    "        plt.plot(self.predictions, color='red')\n",
    "        plt.title('Predictions vs Actual')\n",
    "        plt.legend(loc='upper right',fontsize=15)\n",
    "        plt.show()\n",
    "\n"
   ]
  },
  {
   "cell_type": "code",
   "execution_count": 4,
   "id": "82f4d725",
   "metadata": {},
   "outputs": [
    {
     "data": {
      "image/png": "[encoded data removed]",
      "text/plain": [
       "<Figure size 864x576 with 1 Axes>"
      ]
     },
     "metadata": {
      "needs_background": "light"
     },
     "output_type": "display_data"
    },
    {
     "data": {
      "image/png": "[encoded data removed]",
      "text/plain": [
       "<Figure size 864x576 with 1 Axes>"
      ]
     },
     "metadata": {
      "needs_background": "light"
     },
     "output_type": "display_data"
    },
    {
     "name": "stdout",
     "output_type": "stream",
     "text": [
      "ADF Unit Root Test Lags 0\n",
      "ADF Test Statistic : -2.549418115281482\n",
      "p-value : 0.10390851347407326\n",
      "#Lags Used : 0\n",
      "Number of Observations Used : 1297\n",
      "Lags = 0, weak evidence against null hypothesis, time series has a unit root, indicating it is non-stationary \n",
      " \n",
      "ADF Unit Root Test Lags 1\n",
      "ADF Test Statistic : -36.58836688329033\n",
      "p-value : 0.0\n",
      "#Lags Used : 0\n",
      "Number of Observations Used : 1296\n",
      "Lags = 1, strong evidence against the null hypothesis(Ho), reject the null hypothesis. Data has no unit root and is stationary\n",
      " \n"
     ]
    },
    {
     "name": "stderr",
     "output_type": "stream",
     "text": [
      "C:\\Users\\Panos2\\anaconda3\\envs\\tomouni\\lib\\site-packages\\statsmodels\\graphics\\tsaplots.py:348: FutureWarning: The default method 'yw' can produce PACF values outside of the [-1,1] interval. After 0.13, the default will change tounadjusted Yule-Walker ('ywm'). You can use this method now by setting method='ywm'.\n",
      "  warnings.warn(\n"
     ]
    },
    {
     "data": {
      "image/png": "[encoded data removed]",
      "text/plain": [
       "<Figure size 864x576 with 1 Axes>"
      ]
     },
     "metadata": {
      "needs_background": "light"
     },
     "output_type": "display_data"
    },
    {
     "data": {
      "image/png": "[encoded data removed]",
      "text/plain": [
       "<Figure size 864x576 with 2 Axes>"
      ]
     },
     "metadata": {
      "needs_background": "light"
     },
     "output_type": "display_data"
    }
   ],
   "source": [
    "MLR = ARIMA_Model('EUR_USD','2017-01-01','2021-12-31','D','M')"
   ]
  },
  {
   "cell_type": "code",
   "execution_count": 6,
   "id": "a7f7c906",
   "metadata": {},
   "outputs": [
    {
     "name": "stdout",
     "output_type": "stream",
     "text": [
      "                               SARIMAX Results                                \n",
      "==============================================================================\n",
      "Dep. Variable:            Close_Price   No. Observations:                 1297\n",
      "Model:                 ARIMA(1, 1, 0)   Log Likelihood                5099.118\n",
      "Date:                Fri, 15 Jul 2022   AIC                         -10194.237\n",
      "Time:                        17:09:41   BIC                         -10183.903\n",
      "Sample:                             0   HQIC                        -10190.359\n",
      "                               - 1297                                         \n",
      "Covariance Type:                  opg                                         \n",
      "==============================================================================\n",
      "                 coef    std err          z      P>|z|      [0.025      0.975]\n",
      "------------------------------------------------------------------------------\n",
      "ar.L1         -0.0119      0.025     -0.466      0.641      -0.062       0.038\n",
      "sigma2      2.236e-05   7.16e-07     31.232      0.000     2.1e-05    2.38e-05\n",
      "===================================================================================\n",
      "Ljung-Box (L1) (Q):                   0.00   Jarque-Bera (JB):                56.11\n",
      "Prob(Q):                              1.00   Prob(JB):                         0.00\n",
      "Heteroskedasticity (H):               0.69   Skew:                            -0.08\n",
      "Prob(H) (two-sided):                  0.00   Kurtosis:                         4.01\n",
      "===================================================================================\n",
      "\n",
      "Warnings:\n",
      "[1] Covariance matrix calculated using the outer product of gradients (complex-step).\n"
     ]
    },
    {
     "name": "stderr",
     "output_type": "stream",
     "text": [
      "C:\\Users\\Panos2\\anaconda3\\envs\\tomouni\\lib\\site-packages\\statsmodels\\tsa\\base\\tsa_model.py:471: ValueWarning: A date index has been provided, but it has no associated frequency information and so will be ignored when e.g. forecasting.\n",
      "  self._init_dates(dates, freq)\n",
      "C:\\Users\\Panos2\\anaconda3\\envs\\tomouni\\lib\\site-packages\\statsmodels\\tsa\\base\\tsa_model.py:471: ValueWarning: A date index has been provided, but it has no associated frequency information and so will be ignored when e.g. forecasting.\n",
      "  self._init_dates(dates, freq)\n",
      "C:\\Users\\Panos2\\anaconda3\\envs\\tomouni\\lib\\site-packages\\statsmodels\\tsa\\base\\tsa_model.py:471: ValueWarning: A date index has been provided, but it has no associated frequency information and so will be ignored when e.g. forecasting.\n",
      "  self._init_dates(dates, freq)\n"
     ]
    }
   ],
   "source": [
    "#EUR_USD ARIMA 4-1-6 provided the most statistically significant results for period 2020-01-01 2021-31-12\n",
    "MLR.model_training(1,0)"
   ]
  },
  {
   "cell_type": "code",
   "execution_count": 5,
   "id": "f34a3264",
   "metadata": {},
   "outputs": [],
   "source": [
    "MLR.data.to_csv('ARIMA_DATA.csv')"
   ]
  },
  {
   "cell_type": "code",
   "execution_count": 41,
   "id": "4409c26d",
   "metadata": {},
   "outputs": [],
   "source": [
    "#MLR.load_model('ARIMA_6-1-1.sav')\n",
    "MLR.load_model('EUR_USD_ARIMA_4-1-6.sav')"
   ]
  },
  {
   "cell_type": "code",
   "execution_count": 42,
   "id": "949e89e9",
   "metadata": {},
   "outputs": [
    {
     "data": {
      "image/png": "[encoded data removed]",
      "text/plain": [
       "<Figure size 864x576 with 1 Axes>"
      ]
     },
     "metadata": {
      "needs_background": "light"
     },
     "output_type": "display_data"
    }
   ],
   "source": [
    "#MLR.model_eval(100,250)\n",
    "MLR.model_eval()"
   ]
  },
  {
   "cell_type": "code",
   "execution_count": 5,
   "id": "f9700f67",
   "metadata": {
    "scrolled": true
   },
   "outputs": [
    {
     "name": "stderr",
     "output_type": "stream",
     "text": [
      "C:\\Users\\Panos2\\anaconda3\\envs\\tomouni\\lib\\site-packages\\statsmodels\\tsa\\statespace\\sarimax.py:966: UserWarning: Non-stationary starting autoregressive parameters found. Using zeros as starting parameters.\n",
      "  warn('Non-stationary starting autoregressive parameters'\n",
      "C:\\Users\\Panos2\\anaconda3\\envs\\tomouni\\lib\\site-packages\\statsmodels\\tsa\\statespace\\sarimax.py:978: UserWarning: Non-invertible starting MA parameters found. Using zeros as starting parameters.\n",
      "  warn('Non-invertible starting MA parameters found.'\n"
     ]
    },
    {
     "name": "stdout",
     "output_type": "stream",
     "text": [
      "predicted=1.125140, expected=1.123940\n",
      "predicted=1.123940, expected=1.124790\n",
      "predicted=1.124790, expected=1.130940\n",
      "predicted=1.130940, expected=1.127440\n",
      "predicted=1.127440, expected=1.132980\n",
      "predicted=1.132980, expected=1.128520\n",
      "predicted=1.128520, expected=1.130020\n",
      "predicted=1.130020, expected=1.134320\n",
      "predicted=1.134320, expected=1.140000\n",
      "predicted=1.140000, expected=1.141200\n",
      "predicted=1.141200, expected=1.138370\n",
      "predicted=1.138370, expected=1.142820\n"
     ]
    },
    {
     "name": "stderr",
     "output_type": "stream",
     "text": [
      "C:\\Users\\Panos2\\anaconda3\\envs\\tomouni\\lib\\site-packages\\statsmodels\\base\\model.py:604: ConvergenceWarning: Maximum Likelihood optimization failed to converge. Check mle_retvals\n",
      "  warnings.warn(\"Maximum Likelihood optimization failed to \"\n"
     ]
    },
    {
     "name": "stdout",
     "output_type": "stream",
     "text": [
      "predicted=1.142820, expected=1.144740\n",
      "predicted=1.144740, expected=1.152690\n",
      "predicted=1.152690, expected=1.156980\n",
      "predicted=1.156980, expected=1.159630\n",
      "predicted=1.159630, expected=1.165580\n",
      "predicted=1.165580, expected=1.175160\n",
      "predicted=1.175160, expected=1.171610\n",
      "predicted=1.171610, expected=1.179160\n",
      "predicted=1.179160, expected=1.184750\n",
      "predicted=1.184750, expected=1.177900\n",
      "predicted=1.177900, expected=1.176220\n",
      "predicted=1.176220, expected=1.180270\n",
      "predicted=1.180270, expected=1.186380\n",
      "predicted=1.186380, expected=1.187750\n",
      "predicted=1.187750, expected=1.178600\n",
      "predicted=1.178600, expected=1.173680\n",
      "predicted=1.173680, expected=1.174030\n",
      "predicted=1.174030, expected=1.178470\n",
      "predicted=1.178470, expected=1.181420\n",
      "predicted=1.181420, expected=1.184260\n",
      "predicted=1.184260, expected=1.187060\n"
     ]
    },
    {
     "name": "stderr",
     "output_type": "stream",
     "text": [
      "C:\\Users\\Panos2\\anaconda3\\envs\\tomouni\\lib\\site-packages\\statsmodels\\base\\model.py:604: ConvergenceWarning: Maximum Likelihood optimization failed to converge. Check mle_retvals\n",
      "  warnings.warn(\"Maximum Likelihood optimization failed to \"\n"
     ]
    },
    {
     "name": "stdout",
     "output_type": "stream",
     "text": [
      "predicted=1.187060, expected=1.193120\n",
      "predicted=1.193120, expected=1.183820\n",
      "predicted=1.183820, expected=1.186010\n"
     ]
    },
    {
     "name": "stderr",
     "output_type": "stream",
     "text": [
      "C:\\Users\\Panos2\\anaconda3\\envs\\tomouni\\lib\\site-packages\\statsmodels\\base\\model.py:604: ConvergenceWarning: Maximum Likelihood optimization failed to converge. Check mle_retvals\n",
      "  warnings.warn(\"Maximum Likelihood optimization failed to \"\n"
     ]
    },
    {
     "name": "stdout",
     "output_type": "stream",
     "text": [
      "predicted=1.186010, expected=1.179630\n",
      "predicted=1.179630, expected=1.178770\n",
      "predicted=1.178770, expected=1.183440\n",
      "predicted=1.183440, expected=1.183040\n",
      "predicted=1.183040, expected=1.182180\n"
     ]
    },
    {
     "name": "stderr",
     "output_type": "stream",
     "text": [
      "C:\\Users\\Panos2\\anaconda3\\envs\\tomouni\\lib\\site-packages\\statsmodels\\base\\model.py:604: ConvergenceWarning: Maximum Likelihood optimization failed to converge. Check mle_retvals\n",
      "  warnings.warn(\"Maximum Likelihood optimization failed to \"\n"
     ]
    },
    {
     "name": "stdout",
     "output_type": "stream",
     "text": [
      "predicted=1.182180, expected=1.190460\n",
      "predicted=1.190460, expected=1.193620\n",
      "predicted=1.193620, expected=1.191190\n",
      "predicted=1.191190, expected=1.185510\n",
      "predicted=1.185510, expected=1.185180\n"
     ]
    },
    {
     "name": "stderr",
     "output_type": "stream",
     "text": [
      "C:\\Users\\Panos2\\anaconda3\\envs\\tomouni\\lib\\site-packages\\statsmodels\\base\\model.py:604: ConvergenceWarning: Maximum Likelihood optimization failed to converge. Check mle_retvals\n",
      "  warnings.warn(\"Maximum Likelihood optimization failed to \"\n"
     ]
    },
    {
     "name": "stdout",
     "output_type": "stream",
     "text": [
      "predicted=1.185180, expected=1.183830\n",
      "predicted=1.183830, expected=1.181360\n",
      "predicted=1.181360, expected=1.177400\n",
      "predicted=1.177400, expected=1.180280\n"
     ]
    },
    {
     "name": "stderr",
     "output_type": "stream",
     "text": [
      "C:\\Users\\Panos2\\anaconda3\\envs\\tomouni\\lib\\site-packages\\statsmodels\\base\\model.py:604: ConvergenceWarning: Maximum Likelihood optimization failed to converge. Check mle_retvals\n",
      "  warnings.warn(\"Maximum Likelihood optimization failed to \"\n"
     ]
    },
    {
     "name": "stdout",
     "output_type": "stream",
     "text": [
      "predicted=1.180280, expected=1.181450\n",
      "predicted=1.181450, expected=1.184680\n",
      "predicted=1.184680, expected=1.186340\n",
      "predicted=1.186340, expected=1.184680\n"
     ]
    },
    {
     "name": "stderr",
     "output_type": "stream",
     "text": [
      "C:\\Users\\Panos2\\anaconda3\\envs\\tomouni\\lib\\site-packages\\statsmodels\\base\\model.py:604: ConvergenceWarning: Maximum Likelihood optimization failed to converge. Check mle_retvals\n",
      "  warnings.warn(\"Maximum Likelihood optimization failed to \"\n"
     ]
    },
    {
     "name": "stdout",
     "output_type": "stream",
     "text": [
      "predicted=1.184680, expected=1.181660\n"
     ]
    },
    {
     "name": "stderr",
     "output_type": "stream",
     "text": [
      "C:\\Users\\Panos2\\anaconda3\\envs\\tomouni\\lib\\site-packages\\statsmodels\\base\\model.py:604: ConvergenceWarning: Maximum Likelihood optimization failed to converge. Check mle_retvals\n",
      "  warnings.warn(\"Maximum Likelihood optimization failed to \"\n"
     ]
    },
    {
     "name": "stdout",
     "output_type": "stream",
     "text": [
      "predicted=1.181660, expected=1.184780\n",
      "predicted=1.184780, expected=1.184000\n"
     ]
    },
    {
     "name": "stderr",
     "output_type": "stream",
     "text": [
      "C:\\Users\\Panos2\\anaconda3\\envs\\tomouni\\lib\\site-packages\\statsmodels\\base\\model.py:604: ConvergenceWarning: Maximum Likelihood optimization failed to converge. Check mle_retvals\n",
      "  warnings.warn(\"Maximum Likelihood optimization failed to \"\n"
     ]
    },
    {
     "name": "stdout",
     "output_type": "stream",
     "text": [
      "predicted=1.184000, expected=1.177090\n",
      "predicted=1.177090, expected=1.170770\n",
      "predicted=1.170770, expected=1.166020\n",
      "predicted=1.166020, expected=1.166730\n",
      "predicted=1.166730, expected=1.163160\n",
      "predicted=1.163160, expected=1.166340\n",
      "predicted=1.166340, expected=1.174340\n",
      "predicted=1.174340, expected=1.172080\n",
      "predicted=1.172080, expected=1.174600\n",
      "predicted=1.174600, expected=1.171670\n",
      "predicted=1.171670, expected=1.178500\n",
      "predicted=1.178500, expected=1.173400\n"
     ]
    },
    {
     "name": "stderr",
     "output_type": "stream",
     "text": [
      "C:\\Users\\Panos2\\anaconda3\\envs\\tomouni\\lib\\site-packages\\statsmodels\\base\\model.py:604: ConvergenceWarning: Maximum Likelihood optimization failed to converge. Check mle_retvals\n",
      "  warnings.warn(\"Maximum Likelihood optimization failed to \"\n"
     ]
    },
    {
     "name": "stdout",
     "output_type": "stream",
     "text": [
      "predicted=1.173400, expected=1.176450\n",
      "predicted=1.176450, expected=1.176020\n",
      "predicted=1.176020, expected=1.182830\n",
      "predicted=1.182830, expected=1.181270\n",
      "predicted=1.181270, expected=1.174570\n",
      "predicted=1.174570, expected=1.174620\n",
      "predicted=1.174620, expected=1.170730\n",
      "predicted=1.170730, expected=1.171740\n",
      "predicted=1.171740, expected=1.177040\n",
      "predicted=1.177040, expected=1.182220\n",
      "predicted=1.182220, expected=1.185960\n",
      "predicted=1.185960, expected=1.181860\n",
      "predicted=1.181860, expected=1.186120\n",
      "predicted=1.186120, expected=1.180940\n",
      "predicted=1.180940, expected=1.179540\n",
      "predicted=1.179540, expected=1.174600\n",
      "predicted=1.174600, expected=1.167280\n",
      "predicted=1.167280, expected=1.164800\n",
      "predicted=1.164800, expected=1.164040\n",
      "predicted=1.164040, expected=1.171960\n",
      "predicted=1.171960, expected=1.172260\n",
      "predicted=1.172260, expected=1.182840\n",
      "predicted=1.182840, expected=1.187370\n",
      "predicted=1.187370, expected=1.181360\n",
      "predicted=1.181360, expected=1.181560\n",
      "predicted=1.181560, expected=1.177830\n",
      "predicted=1.177830, expected=1.180500\n",
      "predicted=1.180500, expected=1.183480\n",
      "predicted=1.183480, expected=1.185310\n",
      "predicted=1.185310, expected=1.186100\n",
      "predicted=1.186100, expected=1.185420\n"
     ]
    },
    {
     "name": "stderr",
     "output_type": "stream",
     "text": [
      "C:\\Users\\Panos2\\anaconda3\\envs\\tomouni\\lib\\site-packages\\statsmodels\\base\\model.py:604: ConvergenceWarning: Maximum Likelihood optimization failed to converge. Check mle_retvals\n",
      "  warnings.warn(\"Maximum Likelihood optimization failed to \"\n"
     ]
    },
    {
     "name": "stdout",
     "output_type": "stream",
     "text": [
      "predicted=1.185420, expected=1.187400\n",
      "predicted=1.187400, expected=1.185640\n",
      "predicted=1.185640, expected=1.184120\n",
      "predicted=1.184120, expected=1.189240\n",
      "predicted=1.189240, expected=1.191360\n",
      "predicted=1.191360, expected=1.191360\n",
      "predicted=1.191360, expected=1.196340\n",
      "predicted=1.196340, expected=1.192490\n",
      "predicted=1.192490, expected=1.207220\n",
      "predicted=1.207220, expected=1.211610\n",
      "predicted=1.211610, expected=1.214820\n",
      "predicted=1.214820, expected=1.212180\n",
      "predicted=1.212180, expected=1.210970\n",
      "predicted=1.210970, expected=1.210400\n",
      "predicted=1.210400, expected=1.208140\n",
      "predicted=1.208140, expected=1.214180\n",
      "predicted=1.214180, expected=1.211220\n",
      "predicted=1.211220, expected=1.214290\n",
      "predicted=1.214290, expected=1.215310\n",
      "predicted=1.215310, expected=1.219980\n",
      "predicted=1.219980, expected=1.226850\n",
      "predicted=1.226850, expected=1.225630\n",
      "predicted=1.225630, expected=1.224430\n",
      "predicted=1.224430, expected=1.216300\n",
      "predicted=1.216300, expected=1.218560\n",
      "predicted=1.218560, expected=1.218490\n",
      "predicted=1.218490, expected=1.221520\n",
      "predicted=1.221520, expected=1.225020\n",
      "predicted=1.225020, expected=1.230000\n"
     ]
    },
    {
     "name": "stderr",
     "output_type": "stream",
     "text": [
      "C:\\Users\\Panos2\\anaconda3\\envs\\tomouni\\lib\\site-packages\\statsmodels\\base\\model.py:604: ConvergenceWarning: Maximum Likelihood optimization failed to converge. Check mle_retvals\n",
      "  warnings.warn(\"Maximum Likelihood optimization failed to \"\n"
     ]
    },
    {
     "name": "stdout",
     "output_type": "stream",
     "text": [
      "predicted=1.230000, expected=1.221560\n",
      "predicted=1.221560, expected=1.225250\n",
      "predicted=1.225250, expected=1.229860\n",
      "predicted=1.229860, expected=1.232720\n",
      "predicted=1.232720, expected=1.226920\n",
      "predicted=1.226920, expected=1.222100\n",
      "predicted=1.222100, expected=1.215120\n",
      "predicted=1.215120, expected=1.220790\n",
      "predicted=1.220790, expected=1.215800\n",
      "predicted=1.215800, expected=1.215460\n",
      "predicted=1.215460, expected=1.208040\n",
      "predicted=1.208040, expected=1.207730\n",
      "predicted=1.207730, expected=1.212860\n",
      "predicted=1.212860, expected=1.210620\n",
      "predicted=1.210620, expected=1.216760\n",
      "predicted=1.216760, expected=1.217180\n",
      "predicted=1.217180, expected=1.214160\n",
      "predicted=1.214160, expected=1.216000\n",
      "predicted=1.216000, expected=1.211200\n",
      "predicted=1.211200, expected=1.212180\n",
      "predicted=1.212180, expected=1.213760\n",
      "predicted=1.213760, expected=1.206020\n",
      "predicted=1.206020, expected=1.204370\n",
      "predicted=1.204370, expected=1.203550\n",
      "predicted=1.203550, expected=1.196240\n",
      "predicted=1.196240, expected=1.204660\n",
      "predicted=1.204660, expected=1.205130\n",
      "predicted=1.205130, expected=1.211860\n",
      "predicted=1.211860, expected=1.211860\n",
      "predicted=1.211860, expected=1.212980\n",
      "predicted=1.212980, expected=1.212040\n",
      "predicted=1.212040, expected=1.212800\n",
      "predicted=1.212800, expected=1.210450\n",
      "predicted=1.210450, expected=1.204120\n",
      "predicted=1.204120, expected=1.209300\n",
      "predicted=1.209300, expected=1.211840\n",
      "predicted=1.211840, expected=1.215810\n",
      "predicted=1.215810, expected=1.215080\n",
      "predicted=1.215080, expected=1.217080\n",
      "predicted=1.217080, expected=1.217450\n",
      "predicted=1.217450, expected=1.207340\n",
      "predicted=1.207340, expected=1.204970\n",
      "predicted=1.204970, expected=1.209120\n",
      "predicted=1.209120, expected=1.206360\n"
     ]
    },
    {
     "name": "stderr",
     "output_type": "stream",
     "text": [
      "C:\\Users\\Panos2\\anaconda3\\envs\\tomouni\\lib\\site-packages\\statsmodels\\base\\model.py:604: ConvergenceWarning: Maximum Likelihood optimization failed to converge. Check mle_retvals\n",
      "  warnings.warn(\"Maximum Likelihood optimization failed to \"\n"
     ]
    },
    {
     "name": "stdout",
     "output_type": "stream",
     "text": [
      "predicted=1.206360, expected=1.197230\n",
      "predicted=1.197230, expected=1.191300\n",
      "predicted=1.191300, expected=1.184600\n",
      "predicted=1.184600, expected=1.190160\n",
      "predicted=1.190160, expected=1.192860\n",
      "predicted=1.192860, expected=1.198560\n",
      "predicted=1.198560, expected=1.195250\n",
      "predicted=1.195250, expected=1.193020\n",
      "predicted=1.193020, expected=1.190270\n",
      "predicted=1.190270, expected=1.197940\n",
      "predicted=1.197940, expected=1.191600\n",
      "predicted=1.191600, expected=1.190420\n",
      "predicted=1.190420, expected=1.193260\n",
      "predicted=1.193260, expected=1.184930\n",
      "predicted=1.184930, expected=1.181280\n",
      "predicted=1.181280, expected=1.176440\n",
      "predicted=1.176440, expected=1.179410\n",
      "predicted=1.179410, expected=1.176500\n",
      "predicted=1.176500, expected=1.171580\n",
      "predicted=1.171580, expected=1.173080\n",
      "predicted=1.173080, expected=1.177740\n",
      "predicted=1.177740, expected=1.176020\n",
      "predicted=1.176020, expected=1.181230\n",
      "predicted=1.181672, expected=1.187650\n"
     ]
    },
    {
     "name": "stderr",
     "output_type": "stream",
     "text": [
      "C:\\Users\\Panos2\\anaconda3\\envs\\tomouni\\lib\\site-packages\\statsmodels\\base\\model.py:604: ConvergenceWarning: Maximum Likelihood optimization failed to converge. Check mle_retvals\n",
      "  warnings.warn(\"Maximum Likelihood optimization failed to \"\n"
     ]
    },
    {
     "name": "stdout",
     "output_type": "stream",
     "text": [
      "predicted=1.187396, expected=1.187180\n"
     ]
    },
    {
     "name": "stderr",
     "output_type": "stream",
     "text": [
      "C:\\Users\\Panos2\\anaconda3\\envs\\tomouni\\lib\\site-packages\\statsmodels\\base\\model.py:604: ConvergenceWarning: Maximum Likelihood optimization failed to converge. Check mle_retvals\n",
      "  warnings.warn(\"Maximum Likelihood optimization failed to \"\n"
     ]
    },
    {
     "name": "stdout",
     "output_type": "stream",
     "text": [
      "predicted=1.187380, expected=1.191540\n"
     ]
    },
    {
     "name": "stderr",
     "output_type": "stream",
     "text": [
      "C:\\Users\\Panos2\\anaconda3\\envs\\tomouni\\lib\\site-packages\\statsmodels\\base\\model.py:604: ConvergenceWarning: Maximum Likelihood optimization failed to converge. Check mle_retvals\n",
      "  warnings.warn(\"Maximum Likelihood optimization failed to \"\n"
     ]
    },
    {
     "name": "stdout",
     "output_type": "stream",
     "text": [
      "predicted=1.191118, expected=1.189980\n"
     ]
    },
    {
     "name": "stderr",
     "output_type": "stream",
     "text": [
      "C:\\Users\\Panos2\\anaconda3\\envs\\tomouni\\lib\\site-packages\\statsmodels\\base\\model.py:604: ConvergenceWarning: Maximum Likelihood optimization failed to converge. Check mle_retvals\n",
      "  warnings.warn(\"Maximum Likelihood optimization failed to \"\n"
     ]
    },
    {
     "name": "stdout",
     "output_type": "stream",
     "text": [
      "predicted=1.190248, expected=1.191140\n"
     ]
    },
    {
     "name": "stderr",
     "output_type": "stream",
     "text": [
      "C:\\Users\\Panos2\\anaconda3\\envs\\tomouni\\lib\\site-packages\\statsmodels\\base\\model.py:604: ConvergenceWarning: Maximum Likelihood optimization failed to converge. Check mle_retvals\n",
      "  warnings.warn(\"Maximum Likelihood optimization failed to \"\n"
     ]
    },
    {
     "name": "stdout",
     "output_type": "stream",
     "text": [
      "predicted=1.190616, expected=1.194870\n"
     ]
    },
    {
     "name": "stderr",
     "output_type": "stream",
     "text": [
      "C:\\Users\\Panos2\\anaconda3\\envs\\tomouni\\lib\\site-packages\\statsmodels\\base\\model.py:604: ConvergenceWarning: Maximum Likelihood optimization failed to converge. Check mle_retvals\n",
      "  warnings.warn(\"Maximum Likelihood optimization failed to \"\n"
     ]
    },
    {
     "name": "stdout",
     "output_type": "stream",
     "text": [
      "predicted=1.195122, expected=1.197900\n",
      "predicted=1.197161, expected=1.196650\n"
     ]
    },
    {
     "name": "stderr",
     "output_type": "stream",
     "text": [
      "C:\\Users\\Panos2\\anaconda3\\envs\\tomouni\\lib\\site-packages\\statsmodels\\base\\model.py:604: ConvergenceWarning: Maximum Likelihood optimization failed to converge. Check mle_retvals\n",
      "  warnings.warn(\"Maximum Likelihood optimization failed to \"\n"
     ]
    },
    {
     "name": "stdout",
     "output_type": "stream",
     "text": [
      "predicted=1.196825, expected=1.198220\n"
     ]
    },
    {
     "name": "stderr",
     "output_type": "stream",
     "text": [
      "C:\\Users\\Panos2\\anaconda3\\envs\\tomouni\\lib\\site-packages\\statsmodels\\base\\model.py:604: ConvergenceWarning: Maximum Likelihood optimization failed to converge. Check mle_retvals\n",
      "  warnings.warn(\"Maximum Likelihood optimization failed to \"\n"
     ]
    },
    {
     "name": "stdout",
     "output_type": "stream",
     "text": [
      "predicted=1.197189, expected=1.203690\n",
      "predicted=1.203690, expected=1.203640\n",
      "predicted=1.203640, expected=1.203490\n",
      "predicted=1.203490, expected=1.201480\n",
      "predicted=1.201480, expected=1.209680\n"
     ]
    },
    {
     "name": "stderr",
     "output_type": "stream",
     "text": [
      "C:\\Users\\Panos2\\anaconda3\\envs\\tomouni\\lib\\site-packages\\statsmodels\\base\\model.py:604: ConvergenceWarning: Maximum Likelihood optimization failed to converge. Check mle_retvals\n",
      "  warnings.warn(\"Maximum Likelihood optimization failed to \"\n"
     ]
    },
    {
     "name": "stdout",
     "output_type": "stream",
     "text": [
      "predicted=1.209425, expected=1.208590\n"
     ]
    },
    {
     "name": "stderr",
     "output_type": "stream",
     "text": [
      "C:\\Users\\Panos2\\anaconda3\\envs\\tomouni\\lib\\site-packages\\statsmodels\\base\\model.py:604: ConvergenceWarning: Maximum Likelihood optimization failed to converge. Check mle_retvals\n",
      "  warnings.warn(\"Maximum Likelihood optimization failed to \"\n"
     ]
    },
    {
     "name": "stdout",
     "output_type": "stream",
     "text": [
      "predicted=1.208344, expected=1.209160\n"
     ]
    },
    {
     "name": "stderr",
     "output_type": "stream",
     "text": [
      "C:\\Users\\Panos2\\anaconda3\\envs\\tomouni\\lib\\site-packages\\statsmodels\\base\\model.py:604: ConvergenceWarning: Maximum Likelihood optimization failed to converge. Check mle_retvals\n",
      "  warnings.warn(\"Maximum Likelihood optimization failed to \"\n"
     ]
    },
    {
     "name": "stdout",
     "output_type": "stream",
     "text": [
      "predicted=1.208586, expected=1.212580\n"
     ]
    },
    {
     "name": "stderr",
     "output_type": "stream",
     "text": [
      "C:\\Users\\Panos2\\anaconda3\\envs\\tomouni\\lib\\site-packages\\statsmodels\\base\\model.py:604: ConvergenceWarning: Maximum Likelihood optimization failed to converge. Check mle_retvals\n",
      "  warnings.warn(\"Maximum Likelihood optimization failed to \"\n"
     ]
    },
    {
     "name": "stdout",
     "output_type": "stream",
     "text": [
      "predicted=1.211863, expected=1.211990\n"
     ]
    },
    {
     "name": "stderr",
     "output_type": "stream",
     "text": [
      "C:\\Users\\Panos2\\anaconda3\\envs\\tomouni\\lib\\site-packages\\statsmodels\\base\\model.py:604: ConvergenceWarning: Maximum Likelihood optimization failed to converge. Check mle_retvals\n",
      "  warnings.warn(\"Maximum Likelihood optimization failed to \"\n"
     ]
    },
    {
     "name": "stdout",
     "output_type": "stream",
     "text": [
      "predicted=1.211147, expected=1.202000\n",
      "predicted=1.202000, expected=1.206380\n",
      "predicted=1.206380, expected=1.201330\n",
      "predicted=1.201330, expected=1.200480\n",
      "predicted=1.200480, expected=1.206530\n",
      "predicted=1.206530, expected=1.216320\n",
      "predicted=1.216320, expected=1.212880\n",
      "predicted=1.212880, expected=1.214830\n",
      "predicted=1.214830, expected=1.207260\n",
      "predicted=1.207260, expected=1.207900\n",
      "predicted=1.207900, expected=1.214570\n",
      "predicted=1.214570, expected=1.215000\n",
      "predicted=1.215000, expected=1.222250\n",
      "predicted=1.222250, expected=1.217580\n",
      "predicted=1.217580, expected=1.222860\n",
      "predicted=1.222860, expected=1.218170\n",
      "predicted=1.218170, expected=1.221660\n",
      "predicted=1.221660, expected=1.225220\n",
      "predicted=1.225220, expected=1.219290\n",
      "predicted=1.219290, expected=1.219410\n",
      "predicted=1.219410, expected=1.219210\n",
      "predicted=1.219210, expected=1.222580\n",
      "predicted=1.222580, expected=1.221380\n",
      "predicted=1.221380, expected=1.221040\n",
      "predicted=1.221040, expected=1.212710\n",
      "predicted=1.212710, expected=1.216680\n",
      "predicted=1.216680, expected=1.218940\n",
      "predicted=1.218940, expected=1.217300\n",
      "predicted=1.217300, expected=1.217940\n",
      "predicted=1.217940, expected=1.217600\n",
      "predicted=1.217600, expected=1.210900\n",
      "predicted=1.210900, expected=1.212020\n",
      "predicted=1.212020, expected=1.212600\n",
      "predicted=1.212600, expected=1.199510\n",
      "predicted=1.199510, expected=1.190700\n",
      "predicted=1.190700, expected=1.186420\n",
      "predicted=1.186420, expected=1.191780\n",
      "predicted=1.191780, expected=1.194120\n",
      "predicted=1.194120, expected=1.192660\n",
      "predicted=1.192660, expected=1.193120\n",
      "predicted=1.193120, expected=1.193610\n",
      "predicted=1.193610, expected=1.192440\n",
      "predicted=1.192440, expected=1.189690\n",
      "predicted=1.189690, expected=1.185660\n",
      "predicted=1.185660, expected=1.184960\n",
      "predicted=1.184960, expected=1.186540\n",
      "predicted=1.186540, expected=1.186370\n",
      "predicted=1.186370, expected=1.182310\n",
      "predicted=1.182310, expected=1.179110\n",
      "predicted=1.179110, expected=1.184610\n",
      "predicted=1.184610, expected=1.187700\n",
      "predicted=1.187700, expected=1.186040\n",
      "predicted=1.186040, expected=1.177630\n",
      "predicted=1.177630, expected=1.183640\n",
      "predicted=1.183640, expected=1.181060\n",
      "predicted=1.181060, expected=1.180520\n",
      "predicted=1.180520, expected=1.179860\n",
      "predicted=1.179860, expected=1.178080\n"
     ]
    },
    {
     "name": "stderr",
     "output_type": "stream",
     "text": [
      "C:\\Users\\Panos2\\anaconda3\\envs\\tomouni\\lib\\site-packages\\statsmodels\\base\\model.py:604: ConvergenceWarning: Maximum Likelihood optimization failed to converge. Check mle_retvals\n",
      "  warnings.warn(\"Maximum Likelihood optimization failed to \"\n"
     ]
    },
    {
     "name": "stdout",
     "output_type": "stream",
     "text": [
      "predicted=1.177891, expected=1.179480\n"
     ]
    },
    {
     "name": "stderr",
     "output_type": "stream",
     "text": [
      "C:\\Users\\Panos2\\anaconda3\\envs\\tomouni\\lib\\site-packages\\statsmodels\\base\\model.py:604: ConvergenceWarning: Maximum Likelihood optimization failed to converge. Check mle_retvals\n",
      "  warnings.warn(\"Maximum Likelihood optimization failed to \"\n"
     ]
    },
    {
     "name": "stdout",
     "output_type": "stream",
     "text": [
      "predicted=1.179522, expected=1.177130\n"
     ]
    },
    {
     "name": "stderr",
     "output_type": "stream",
     "text": [
      "C:\\Users\\Panos2\\anaconda3\\envs\\tomouni\\lib\\site-packages\\statsmodels\\base\\model.py:604: ConvergenceWarning: Maximum Likelihood optimization failed to converge. Check mle_retvals\n",
      "  warnings.warn(\"Maximum Likelihood optimization failed to \"\n"
     ]
    },
    {
     "name": "stdout",
     "output_type": "stream",
     "text": [
      "predicted=1.176967, expected=1.177170\n"
     ]
    },
    {
     "name": "stderr",
     "output_type": "stream",
     "text": [
      "C:\\Users\\Panos2\\anaconda3\\envs\\tomouni\\lib\\site-packages\\statsmodels\\base\\model.py:604: ConvergenceWarning: Maximum Likelihood optimization failed to converge. Check mle_retvals\n",
      "  warnings.warn(\"Maximum Likelihood optimization failed to \"\n"
     ]
    },
    {
     "name": "stdout",
     "output_type": "stream",
     "text": [
      "predicted=1.177888, expected=1.180300\n"
     ]
    },
    {
     "name": "stderr",
     "output_type": "stream",
     "text": [
      "C:\\Users\\Panos2\\anaconda3\\envs\\tomouni\\lib\\site-packages\\statsmodels\\base\\model.py:604: ConvergenceWarning: Maximum Likelihood optimization failed to converge. Check mle_retvals\n",
      "  warnings.warn(\"Maximum Likelihood optimization failed to \"\n"
     ]
    },
    {
     "name": "stdout",
     "output_type": "stream",
     "text": [
      "predicted=1.179908, expected=1.181610\n"
     ]
    },
    {
     "name": "stderr",
     "output_type": "stream",
     "text": [
      "C:\\Users\\Panos2\\anaconda3\\envs\\tomouni\\lib\\site-packages\\statsmodels\\base\\model.py:604: ConvergenceWarning: Maximum Likelihood optimization failed to converge. Check mle_retvals\n",
      "  warnings.warn(\"Maximum Likelihood optimization failed to \"\n"
     ]
    },
    {
     "name": "stdout",
     "output_type": "stream",
     "text": [
      "predicted=1.182041, expected=1.184250\n"
     ]
    },
    {
     "name": "stderr",
     "output_type": "stream",
     "text": [
      "C:\\Users\\Panos2\\anaconda3\\envs\\tomouni\\lib\\site-packages\\statsmodels\\base\\model.py:604: ConvergenceWarning: Maximum Likelihood optimization failed to converge. Check mle_retvals\n",
      "  warnings.warn(\"Maximum Likelihood optimization failed to \"\n"
     ]
    },
    {
     "name": "stdout",
     "output_type": "stream",
     "text": [
      "predicted=1.184208, expected=1.188700\n",
      "predicted=1.188330, expected=1.186710\n"
     ]
    },
    {
     "name": "stderr",
     "output_type": "stream",
     "text": [
      "C:\\Users\\Panos2\\anaconda3\\envs\\tomouni\\lib\\site-packages\\statsmodels\\base\\model.py:604: ConvergenceWarning: Maximum Likelihood optimization failed to converge. Check mle_retvals\n",
      "  warnings.warn(\"Maximum Likelihood optimization failed to \"\n"
     ]
    },
    {
     "name": "stdout",
     "output_type": "stream",
     "text": [
      "predicted=1.186738, expected=1.187200\n",
      "predicted=1.186534, expected=1.186490\n",
      "predicted=1.186699, expected=1.183680\n",
      "predicted=1.183345, expected=1.183240\n",
      "predicted=1.183302, expected=1.176160\n",
      "predicted=1.176095, expected=1.173580\n",
      "predicted=1.173557, expected=1.172060\n",
      "predicted=1.172067, expected=1.173950\n",
      "predicted=1.174500, expected=1.172970\n",
      "predicted=1.172993, expected=1.179540\n",
      "predicted=1.179985, expected=1.177650\n",
      "predicted=1.177679, expected=1.170840\n",
      "predicted=1.171269, expected=1.171060\n",
      "predicted=1.170287, expected=1.167620\n",
      "predicted=1.168441, expected=1.169900\n",
      "predicted=1.169678, expected=1.174600\n",
      "predicted=1.175378, expected=1.175730\n",
      "predicted=1.175341, expected=1.177240\n",
      "predicted=1.177634, expected=1.175220\n"
     ]
    },
    {
     "name": "stderr",
     "output_type": "stream",
     "text": [
      "C:\\Users\\Panos2\\anaconda3\\envs\\tomouni\\lib\\site-packages\\statsmodels\\base\\model.py:604: ConvergenceWarning: Maximum Likelihood optimization failed to converge. Check mle_retvals\n",
      "  warnings.warn(\"Maximum Likelihood optimization failed to \"\n"
     ]
    },
    {
     "name": "stdout",
     "output_type": "stream",
     "text": [
      "predicted=1.174540, expected=1.179440\n"
     ]
    },
    {
     "name": "stderr",
     "output_type": "stream",
     "text": [
      "C:\\Users\\Panos2\\anaconda3\\envs\\tomouni\\lib\\site-packages\\statsmodels\\base\\model.py:604: ConvergenceWarning: Maximum Likelihood optimization failed to converge. Check mle_retvals\n",
      "  warnings.warn(\"Maximum Likelihood optimization failed to \"\n"
     ]
    },
    {
     "name": "stdout",
     "output_type": "stream",
     "text": [
      "predicted=1.179058, expected=1.179690\n",
      "predicted=1.178567, expected=1.180880\n"
     ]
    },
    {
     "name": "stderr",
     "output_type": "stream",
     "text": [
      "C:\\Users\\Panos2\\anaconda3\\envs\\tomouni\\lib\\site-packages\\statsmodels\\base\\model.py:604: ConvergenceWarning: Maximum Likelihood optimization failed to converge. Check mle_retvals\n",
      "  warnings.warn(\"Maximum Likelihood optimization failed to \"\n"
     ]
    },
    {
     "name": "stdout",
     "output_type": "stream",
     "text": [
      "predicted=1.180617, expected=1.184000\n",
      "predicted=1.183913, expected=1.187500\n"
     ]
    },
    {
     "name": "stderr",
     "output_type": "stream",
     "text": [
      "C:\\Users\\Panos2\\anaconda3\\envs\\tomouni\\lib\\site-packages\\statsmodels\\base\\model.py:604: ConvergenceWarning: Maximum Likelihood optimization failed to converge. Check mle_retvals\n",
      "  warnings.warn(\"Maximum Likelihood optimization failed to \"\n"
     ]
    },
    {
     "name": "stdout",
     "output_type": "stream",
     "text": [
      "predicted=1.186675, expected=1.187910\n"
     ]
    },
    {
     "name": "stderr",
     "output_type": "stream",
     "text": [
      "C:\\Users\\Panos2\\anaconda3\\envs\\tomouni\\lib\\site-packages\\statsmodels\\base\\model.py:604: ConvergenceWarning: Maximum Likelihood optimization failed to converge. Check mle_retvals\n",
      "  warnings.warn(\"Maximum Likelihood optimization failed to \"\n"
     ]
    },
    {
     "name": "stdout",
     "output_type": "stream",
     "text": [
      "predicted=1.188217, expected=1.187090\n"
     ]
    },
    {
     "name": "stderr",
     "output_type": "stream",
     "text": [
      "C:\\Users\\Panos2\\anaconda3\\envs\\tomouni\\lib\\site-packages\\statsmodels\\base\\model.py:604: ConvergenceWarning: Maximum Likelihood optimization failed to converge. Check mle_retvals\n",
      "  warnings.warn(\"Maximum Likelihood optimization failed to \"\n"
     ]
    },
    {
     "name": "stdout",
     "output_type": "stream",
     "text": [
      "predicted=1.186456, expected=1.184220\n",
      "predicted=1.184401, expected=1.181580\n"
     ]
    },
    {
     "name": "stderr",
     "output_type": "stream",
     "text": [
      "C:\\Users\\Panos2\\anaconda3\\envs\\tomouni\\lib\\site-packages\\statsmodels\\base\\model.py:604: ConvergenceWarning: Maximum Likelihood optimization failed to converge. Check mle_retvals\n",
      "  warnings.warn(\"Maximum Likelihood optimization failed to \"\n"
     ]
    },
    {
     "name": "stdout",
     "output_type": "stream",
     "text": [
      "predicted=1.181016, expected=1.182380\n"
     ]
    },
    {
     "name": "stderr",
     "output_type": "stream",
     "text": [
      "C:\\Users\\Panos2\\anaconda3\\envs\\tomouni\\lib\\site-packages\\statsmodels\\base\\model.py:604: ConvergenceWarning: Maximum Likelihood optimization failed to converge. Check mle_retvals\n",
      "  warnings.warn(\"Maximum Likelihood optimization failed to \"\n"
     ]
    },
    {
     "name": "stdout",
     "output_type": "stream",
     "text": [
      "predicted=1.182808, expected=1.181070\n",
      "predicted=1.181142, expected=1.181030\n"
     ]
    },
    {
     "name": "stderr",
     "output_type": "stream",
     "text": [
      "C:\\Users\\Panos2\\anaconda3\\envs\\tomouni\\lib\\site-packages\\statsmodels\\base\\model.py:604: ConvergenceWarning: Maximum Likelihood optimization failed to converge. Check mle_retvals\n",
      "  warnings.warn(\"Maximum Likelihood optimization failed to \"\n"
     ]
    },
    {
     "name": "stdout",
     "output_type": "stream",
     "text": [
      "predicted=1.181148, expected=1.180400\n"
     ]
    },
    {
     "name": "stderr",
     "output_type": "stream",
     "text": [
      "C:\\Users\\Panos2\\anaconda3\\envs\\tomouni\\lib\\site-packages\\statsmodels\\base\\model.py:604: ConvergenceWarning: Maximum Likelihood optimization failed to converge. Check mle_retvals\n",
      "  warnings.warn(\"Maximum Likelihood optimization failed to \"\n"
     ]
    },
    {
     "name": "stdout",
     "output_type": "stream",
     "text": [
      "predicted=1.180102, expected=1.181580\n",
      "predicted=1.180056, expected=1.176880\n",
      "predicted=1.176809, expected=1.172430\n"
     ]
    },
    {
     "name": "stderr",
     "output_type": "stream",
     "text": [
      "C:\\Users\\Panos2\\anaconda3\\envs\\tomouni\\lib\\site-packages\\statsmodels\\base\\model.py:604: ConvergenceWarning: Maximum Likelihood optimization failed to converge. Check mle_retvals\n",
      "  warnings.warn(\"Maximum Likelihood optimization failed to \"\n"
     ]
    },
    {
     "name": "stdout",
     "output_type": "stream",
     "text": [
      "predicted=1.172700, expected=1.172670\n"
     ]
    },
    {
     "name": "stderr",
     "output_type": "stream",
     "text": [
      "C:\\Users\\Panos2\\anaconda3\\envs\\tomouni\\lib\\site-packages\\statsmodels\\base\\model.py:604: ConvergenceWarning: Maximum Likelihood optimization failed to converge. Check mle_retvals\n",
      "  warnings.warn(\"Maximum Likelihood optimization failed to \"\n"
     ]
    },
    {
     "name": "stdout",
     "output_type": "stream",
     "text": [
      "predicted=1.172325, expected=1.172550\n",
      "predicted=1.172990, expected=1.168800\n"
     ]
    },
    {
     "name": "stderr",
     "output_type": "stream",
     "text": [
      "C:\\Users\\Panos2\\anaconda3\\envs\\tomouni\\lib\\site-packages\\statsmodels\\base\\model.py:604: ConvergenceWarning: Maximum Likelihood optimization failed to converge. Check mle_retvals\n",
      "  warnings.warn(\"Maximum Likelihood optimization failed to \"\n"
     ]
    },
    {
     "name": "stdout",
     "output_type": "stream",
     "text": [
      "predicted=1.168898, expected=1.173880\n",
      "predicted=1.173382, expected=1.172060\n",
      "predicted=1.173410, expected=1.169530\n",
      "predicted=1.169530, expected=1.168340\n",
      "predicted=1.168340, expected=1.159710\n"
     ]
    },
    {
     "name": "stderr",
     "output_type": "stream",
     "text": [
      "C:\\Users\\Panos2\\anaconda3\\envs\\tomouni\\lib\\site-packages\\statsmodels\\base\\model.py:604: ConvergenceWarning: Maximum Likelihood optimization failed to converge. Check mle_retvals\n",
      "  warnings.warn(\"Maximum Likelihood optimization failed to \"\n"
     ]
    },
    {
     "name": "stdout",
     "output_type": "stream",
     "text": [
      "predicted=1.159816, expected=1.157760\n",
      "predicted=1.158524, expected=1.159300\n",
      "predicted=1.160263, expected=1.162040\n",
      "predicted=1.162040, expected=1.159780\n",
      "predicted=1.159780, expected=1.155670\n",
      "predicted=1.155670, expected=1.155360\n"
     ]
    },
    {
     "name": "stderr",
     "output_type": "stream",
     "text": [
      "C:\\Users\\Panos2\\anaconda3\\envs\\tomouni\\lib\\site-packages\\statsmodels\\base\\model.py:604: ConvergenceWarning: Maximum Likelihood optimization failed to converge. Check mle_retvals\n",
      "  warnings.warn(\"Maximum Likelihood optimization failed to \"\n"
     ]
    },
    {
     "name": "stdout",
     "output_type": "stream",
     "text": [
      "predicted=1.155360, expected=1.157440\n",
      "predicted=1.157940, expected=1.155320\n"
     ]
    },
    {
     "name": "stderr",
     "output_type": "stream",
     "text": [
      "C:\\Users\\Panos2\\anaconda3\\envs\\tomouni\\lib\\site-packages\\statsmodels\\base\\model.py:604: ConvergenceWarning: Maximum Likelihood optimization failed to converge. Check mle_retvals\n",
      "  warnings.warn(\"Maximum Likelihood optimization failed to \"\n"
     ]
    },
    {
     "name": "stdout",
     "output_type": "stream",
     "text": [
      "predicted=1.155955, expected=1.153020\n"
     ]
    },
    {
     "name": "stderr",
     "output_type": "stream",
     "text": [
      "C:\\Users\\Panos2\\anaconda3\\envs\\tomouni\\lib\\site-packages\\statsmodels\\base\\model.py:604: ConvergenceWarning: Maximum Likelihood optimization failed to converge. Check mle_retvals\n",
      "  warnings.warn(\"Maximum Likelihood optimization failed to \"\n"
     ]
    },
    {
     "name": "stdout",
     "output_type": "stream",
     "text": [
      "predicted=1.153077, expected=1.159580\n"
     ]
    },
    {
     "name": "stderr",
     "output_type": "stream",
     "text": [
      "C:\\Users\\Panos2\\anaconda3\\envs\\tomouni\\lib\\site-packages\\statsmodels\\base\\model.py:604: ConvergenceWarning: Maximum Likelihood optimization failed to converge. Check mle_retvals\n",
      "  warnings.warn(\"Maximum Likelihood optimization failed to \"\n"
     ]
    },
    {
     "name": "stdout",
     "output_type": "stream",
     "text": [
      "predicted=1.159471, expected=1.159710\n"
     ]
    },
    {
     "name": "stderr",
     "output_type": "stream",
     "text": [
      "C:\\Users\\Panos2\\anaconda3\\envs\\tomouni\\lib\\site-packages\\statsmodels\\base\\model.py:604: ConvergenceWarning: Maximum Likelihood optimization failed to converge. Check mle_retvals\n",
      "  warnings.warn(\"Maximum Likelihood optimization failed to \"\n"
     ]
    },
    {
     "name": "stdout",
     "output_type": "stream",
     "text": [
      "predicted=1.159664, expected=1.159900\n"
     ]
    },
    {
     "name": "stderr",
     "output_type": "stream",
     "text": [
      "C:\\Users\\Panos2\\anaconda3\\envs\\tomouni\\lib\\site-packages\\statsmodels\\base\\model.py:604: ConvergenceWarning: Maximum Likelihood optimization failed to converge. Check mle_retvals\n",
      "  warnings.warn(\"Maximum Likelihood optimization failed to \"\n"
     ]
    },
    {
     "name": "stdout",
     "output_type": "stream",
     "text": [
      "predicted=1.160266, expected=1.161120\n"
     ]
    },
    {
     "name": "stderr",
     "output_type": "stream",
     "text": [
      "C:\\Users\\Panos2\\anaconda3\\envs\\tomouni\\lib\\site-packages\\statsmodels\\base\\model.py:604: ConvergenceWarning: Maximum Likelihood optimization failed to converge. Check mle_retvals\n",
      "  warnings.warn(\"Maximum Likelihood optimization failed to \"\n"
     ]
    },
    {
     "name": "stdout",
     "output_type": "stream",
     "text": [
      "predicted=1.161043, expected=1.163300\n"
     ]
    },
    {
     "name": "stderr",
     "output_type": "stream",
     "text": [
      "C:\\Users\\Panos2\\anaconda3\\envs\\tomouni\\lib\\site-packages\\statsmodels\\base\\model.py:604: ConvergenceWarning: Maximum Likelihood optimization failed to converge. Check mle_retvals\n",
      "  warnings.warn(\"Maximum Likelihood optimization failed to \"\n"
     ]
    },
    {
     "name": "stdout",
     "output_type": "stream",
     "text": [
      "predicted=1.163118, expected=1.165100\n"
     ]
    },
    {
     "name": "stderr",
     "output_type": "stream",
     "text": [
      "C:\\Users\\Panos2\\anaconda3\\envs\\tomouni\\lib\\site-packages\\statsmodels\\base\\model.py:604: ConvergenceWarning: Maximum Likelihood optimization failed to converge. Check mle_retvals\n",
      "  warnings.warn(\"Maximum Likelihood optimization failed to \"\n"
     ]
    },
    {
     "name": "stdout",
     "output_type": "stream",
     "text": [
      "predicted=1.165147, expected=1.162490\n"
     ]
    },
    {
     "name": "stderr",
     "output_type": "stream",
     "text": [
      "C:\\Users\\Panos2\\anaconda3\\envs\\tomouni\\lib\\site-packages\\statsmodels\\base\\model.py:604: ConvergenceWarning: Maximum Likelihood optimization failed to converge. Check mle_retvals\n",
      "  warnings.warn(\"Maximum Likelihood optimization failed to \"\n"
     ]
    },
    {
     "name": "stdout",
     "output_type": "stream",
     "text": [
      "predicted=1.162179, expected=1.164590\n"
     ]
    },
    {
     "name": "stderr",
     "output_type": "stream",
     "text": [
      "C:\\Users\\Panos2\\anaconda3\\envs\\tomouni\\lib\\site-packages\\statsmodels\\base\\model.py:604: ConvergenceWarning: Maximum Likelihood optimization failed to converge. Check mle_retvals\n",
      "  warnings.warn(\"Maximum Likelihood optimization failed to \"\n"
     ]
    },
    {
     "name": "stdout",
     "output_type": "stream",
     "text": [
      "predicted=1.164387, expected=1.161060\n"
     ]
    },
    {
     "name": "stderr",
     "output_type": "stream",
     "text": [
      "C:\\Users\\Panos2\\anaconda3\\envs\\tomouni\\lib\\site-packages\\statsmodels\\base\\model.py:604: ConvergenceWarning: Maximum Likelihood optimization failed to converge. Check mle_retvals\n",
      "  warnings.warn(\"Maximum Likelihood optimization failed to \"\n"
     ]
    },
    {
     "name": "stdout",
     "output_type": "stream",
     "text": [
      "predicted=1.161020, expected=1.159640\n",
      "predicted=1.159276, expected=1.160330\n"
     ]
    },
    {
     "name": "stderr",
     "output_type": "stream",
     "text": [
      "C:\\Users\\Panos2\\anaconda3\\envs\\tomouni\\lib\\site-packages\\statsmodels\\base\\model.py:604: ConvergenceWarning: Maximum Likelihood optimization failed to converge. Check mle_retvals\n",
      "  warnings.warn(\"Maximum Likelihood optimization failed to \"\n"
     ]
    },
    {
     "name": "stdout",
     "output_type": "stream",
     "text": [
      "predicted=1.160469, expected=1.168300\n"
     ]
    },
    {
     "name": "stderr",
     "output_type": "stream",
     "text": [
      "C:\\Users\\Panos2\\anaconda3\\envs\\tomouni\\lib\\site-packages\\statsmodels\\base\\model.py:604: ConvergenceWarning: Maximum Likelihood optimization failed to converge. Check mle_retvals\n",
      "  warnings.warn(\"Maximum Likelihood optimization failed to \"\n"
     ]
    },
    {
     "name": "stdout",
     "output_type": "stream",
     "text": [
      "predicted=1.168292, expected=1.156190\n",
      "predicted=1.155125, expected=1.160620\n",
      "predicted=1.160609, expected=1.157990\n"
     ]
    },
    {
     "name": "stderr",
     "output_type": "stream",
     "text": [
      "C:\\Users\\Panos2\\anaconda3\\envs\\tomouni\\lib\\site-packages\\statsmodels\\base\\model.py:604: ConvergenceWarning: Maximum Likelihood optimization failed to converge. Check mle_retvals\n",
      "  warnings.warn(\"Maximum Likelihood optimization failed to \"\n"
     ]
    },
    {
     "name": "stdout",
     "output_type": "stream",
     "text": [
      "predicted=1.157490, expected=1.161170\n",
      "predicted=1.162248, expected=1.155440\n",
      "predicted=1.155440, expected=1.156810\n",
      "predicted=1.156810, expected=1.158720\n",
      "predicted=1.158720, expected=1.159440\n",
      "predicted=1.159440, expected=1.147780\n",
      "predicted=1.147780, expected=1.144930\n",
      "predicted=1.144930, expected=1.144330\n",
      "predicted=1.144330, expected=1.136760\n",
      "predicted=1.137879, expected=1.132040\n",
      "predicted=1.130762, expected=1.131890\n",
      "predicted=1.132974, expected=1.137300\n",
      "predicted=1.137484, expected=1.128190\n",
      "predicted=1.128969, expected=1.123440\n",
      "predicted=1.123254, expected=1.124920\n",
      "predicted=1.125480, expected=1.120080\n",
      "predicted=1.120426, expected=1.120920\n"
     ]
    },
    {
     "name": "stderr",
     "output_type": "stream",
     "text": [
      "C:\\Users\\Panos2\\anaconda3\\envs\\tomouni\\lib\\site-packages\\statsmodels\\base\\model.py:604: ConvergenceWarning: Maximum Likelihood optimization failed to converge. Check mle_retvals\n",
      "  warnings.warn(\"Maximum Likelihood optimization failed to \"\n"
     ]
    },
    {
     "name": "stdout",
     "output_type": "stream",
     "text": [
      "predicted=1.121437, expected=1.131020\n",
      "predicted=1.131318, expected=1.129250\n",
      "predicted=1.130177, expected=1.133920\n",
      "predicted=1.133849, expected=1.132000\n",
      "predicted=1.132168, expected=1.130100\n",
      "predicted=1.130247, expected=1.131090\n",
      "predicted=1.130772, expected=1.128570\n",
      "predicted=1.128975, expected=1.126860\n",
      "predicted=1.126636, expected=1.134330\n",
      "predicted=1.134463, expected=1.129330\n",
      "predicted=1.129656, expected=1.131780\n",
      "predicted=1.131640, expected=1.128620\n",
      "predicted=1.128495, expected=1.125740\n",
      "predicted=1.126030, expected=1.129480\n",
      "predicted=1.129102, expected=1.133060\n",
      "predicted=1.133566, expected=1.123600\n",
      "predicted=1.123625, expected=1.127660\n",
      "predicted=1.127363, expected=1.128410\n",
      "predicted=1.128594, expected=1.132760\n",
      "predicted=1.133103, expected=1.132750\n",
      "predicted=1.132477, expected=1.131050\n",
      "predicted=1.131300, expected=1.132740\n",
      "predicted=1.132385, expected=1.130840\n",
      "predicted=1.130957, expected=1.134720\n",
      "predicted=1.134564, expected=1.132580\n"
     ]
    },
    {
     "name": "stderr",
     "output_type": "stream",
     "text": [
      "No artists with labels found to put in legend.  Note that artists whose label start with an underscore are ignored when legend() is called with no argument.\n"
     ]
    },
    {
     "name": "stdout",
     "output_type": "stream",
     "text": [
      "predicted=1.132605, expected=1.137300\n",
      "Test RMSE: 0.004\n",
      "Test MAE: 0.003\n",
      "Test MAPE: 0.003\n"
     ]
    },
    {
     "data": {
      "image/png": "[encoded data removed]",
      "text/plain": [
       "<Figure size 864x576 with 1 Axes>"
      ]
     },
     "metadata": {
      "needs_background": "light"
     },
     "output_type": "display_data"
    }
   ],
   "source": [
    "MLR.RMSE_Rolling_Forecast(0.7,4,6)"
   ]
  },
  {
   "cell_type": "code",
   "execution_count": 6,
   "id": "7b68d35a",
   "metadata": {},
   "outputs": [
    {
     "data": {
      "text/html": [
       "<div>\n",
       "<style scoped>\n",
       "    .dataframe tbody tr th:only-of-type {\n",
       "        vertical-align: middle;\n",
       "    }\n",
       "\n",
       "    .dataframe tbody tr th {\n",
       "        vertical-align: top;\n",
       "    }\n",
       "\n",
       "    .dataframe thead th {\n",
       "        text-align: right;\n",
       "    }\n",
       "</style>\n",
       "<table border=\"1\" class=\"dataframe\">\n",
       "  <thead>\n",
       "    <tr style=\"text-align: right;\">\n",
       "      <th></th>\n",
       "      <th>volume</th>\n",
       "      <th>complete</th>\n",
       "      <th>o</th>\n",
       "      <th>h</th>\n",
       "      <th>l</th>\n",
       "      <th>Close_Price</th>\n",
       "      <th>log_returns</th>\n",
       "      <th>1_difference</th>\n",
       "    </tr>\n",
       "    <tr>\n",
       "      <th>time</th>\n",
       "      <th></th>\n",
       "      <th></th>\n",
       "      <th></th>\n",
       "      <th></th>\n",
       "      <th></th>\n",
       "      <th></th>\n",
       "      <th></th>\n",
       "      <th></th>\n",
       "    </tr>\n",
       "  </thead>\n",
       "  <tbody>\n",
       "    <tr>\n",
       "      <th>2010-01-03 22:00:00+00:00</th>\n",
       "      <td>42031</td>\n",
       "      <td>True</td>\n",
       "      <td>1.43050</td>\n",
       "      <td>1.44565</td>\n",
       "      <td>1.42583</td>\n",
       "      <td>1.44136</td>\n",
       "      <td>0.007521</td>\n",
       "      <td>0.01080</td>\n",
       "    </tr>\n",
       "    <tr>\n",
       "      <th>2010-01-04 22:00:00+00:00</th>\n",
       "      <td>45159</td>\n",
       "      <td>True</td>\n",
       "      <td>1.44132</td>\n",
       "      <td>1.44845</td>\n",
       "      <td>1.43473</td>\n",
       "      <td>1.43660</td>\n",
       "      <td>-0.003308</td>\n",
       "      <td>-0.00476</td>\n",
       "    </tr>\n",
       "    <tr>\n",
       "      <th>2010-01-05 22:00:00+00:00</th>\n",
       "      <td>45142</td>\n",
       "      <td>True</td>\n",
       "      <td>1.43675</td>\n",
       "      <td>1.44350</td>\n",
       "      <td>1.42840</td>\n",
       "      <td>1.44087</td>\n",
       "      <td>0.002968</td>\n",
       "      <td>0.00427</td>\n",
       "    </tr>\n",
       "    <tr>\n",
       "      <th>2010-01-06 22:00:00+00:00</th>\n",
       "      <td>42005</td>\n",
       "      <td>True</td>\n",
       "      <td>1.44083</td>\n",
       "      <td>1.44476</td>\n",
       "      <td>1.43001</td>\n",
       "      <td>1.43089</td>\n",
       "      <td>-0.006950</td>\n",
       "      <td>-0.00998</td>\n",
       "    </tr>\n",
       "    <tr>\n",
       "      <th>2010-01-07 22:00:00+00:00</th>\n",
       "      <td>47542</td>\n",
       "      <td>True</td>\n",
       "      <td>1.43099</td>\n",
       "      <td>1.44393</td>\n",
       "      <td>1.42653</td>\n",
       "      <td>1.44105</td>\n",
       "      <td>0.007075</td>\n",
       "      <td>0.01016</td>\n",
       "    </tr>\n",
       "    <tr>\n",
       "      <th>...</th>\n",
       "      <td>...</td>\n",
       "      <td>...</td>\n",
       "      <td>...</td>\n",
       "      <td>...</td>\n",
       "      <td>...</td>\n",
       "      <td>...</td>\n",
       "      <td>...</td>\n",
       "      <td>...</td>\n",
       "    </tr>\n",
       "    <tr>\n",
       "      <th>2021-12-26 22:00:00+00:00</th>\n",
       "      <td>28776</td>\n",
       "      <td>True</td>\n",
       "      <td>1.13233</td>\n",
       "      <td>1.13353</td>\n",
       "      <td>1.13037</td>\n",
       "      <td>1.13284</td>\n",
       "      <td>0.001139</td>\n",
       "      <td>0.00129</td>\n",
       "    </tr>\n",
       "    <tr>\n",
       "      <th>2021-12-27 22:00:00+00:00</th>\n",
       "      <td>33197</td>\n",
       "      <td>True</td>\n",
       "      <td>1.13332</td>\n",
       "      <td>1.13342</td>\n",
       "      <td>1.12904</td>\n",
       "      <td>1.13092</td>\n",
       "      <td>-0.001696</td>\n",
       "      <td>-0.00192</td>\n",
       "    </tr>\n",
       "    <tr>\n",
       "      <th>2021-12-28 22:00:00+00:00</th>\n",
       "      <td>51721</td>\n",
       "      <td>True</td>\n",
       "      <td>1.13148</td>\n",
       "      <td>1.13697</td>\n",
       "      <td>1.12745</td>\n",
       "      <td>1.13480</td>\n",
       "      <td>0.003425</td>\n",
       "      <td>0.00388</td>\n",
       "    </tr>\n",
       "    <tr>\n",
       "      <th>2021-12-29 22:00:00+00:00</th>\n",
       "      <td>47424</td>\n",
       "      <td>True</td>\n",
       "      <td>1.13523</td>\n",
       "      <td>1.13607</td>\n",
       "      <td>1.12992</td>\n",
       "      <td>1.13267</td>\n",
       "      <td>-0.001879</td>\n",
       "      <td>-0.00213</td>\n",
       "    </tr>\n",
       "    <tr>\n",
       "      <th>2021-12-30 22:00:00+00:00</th>\n",
       "      <td>39738</td>\n",
       "      <td>True</td>\n",
       "      <td>1.13299</td>\n",
       "      <td>1.13871</td>\n",
       "      <td>1.13041</td>\n",
       "      <td>1.13780</td>\n",
       "      <td>0.004519</td>\n",
       "      <td>0.00513</td>\n",
       "    </tr>\n",
       "  </tbody>\n",
       "</table>\n",
       "<p>3404 rows × 8 columns</p>\n",
       "</div>"
      ],
      "text/plain": [
       "                           volume  complete        o        h        l  \\\n",
       "time                                                                     \n",
       "2010-01-03 22:00:00+00:00   42031      True  1.43050  1.44565  1.42583   \n",
       "2010-01-04 22:00:00+00:00   45159      True  1.44132  1.44845  1.43473   \n",
       "2010-01-05 22:00:00+00:00   45142      True  1.43675  1.44350  1.42840   \n",
       "2010-01-06 22:00:00+00:00   42005      True  1.44083  1.44476  1.43001   \n",
       "2010-01-07 22:00:00+00:00   47542      True  1.43099  1.44393  1.42653   \n",
       "...                           ...       ...      ...      ...      ...   \n",
       "2021-12-26 22:00:00+00:00   28776      True  1.13233  1.13353  1.13037   \n",
       "2021-12-27 22:00:00+00:00   33197      True  1.13332  1.13342  1.12904   \n",
       "2021-12-28 22:00:00+00:00   51721      True  1.13148  1.13697  1.12745   \n",
       "2021-12-29 22:00:00+00:00   47424      True  1.13523  1.13607  1.12992   \n",
       "2021-12-30 22:00:00+00:00   39738      True  1.13299  1.13871  1.13041   \n",
       "\n",
       "                           Close_Price  log_returns  1_difference  \n",
       "time                                                               \n",
       "2010-01-03 22:00:00+00:00      1.44136     0.007521       0.01080  \n",
       "2010-01-04 22:00:00+00:00      1.43660    -0.003308      -0.00476  \n",
       "2010-01-05 22:00:00+00:00      1.44087     0.002968       0.00427  \n",
       "2010-01-06 22:00:00+00:00      1.43089    -0.006950      -0.00998  \n",
       "2010-01-07 22:00:00+00:00      1.44105     0.007075       0.01016  \n",
       "...                                ...          ...           ...  \n",
       "2021-12-26 22:00:00+00:00      1.13284     0.001139       0.00129  \n",
       "2021-12-27 22:00:00+00:00      1.13092    -0.001696      -0.00192  \n",
       "2021-12-28 22:00:00+00:00      1.13480     0.003425       0.00388  \n",
       "2021-12-29 22:00:00+00:00      1.13267    -0.001879      -0.00213  \n",
       "2021-12-30 22:00:00+00:00      1.13780     0.004519       0.00513  \n",
       "\n",
       "[3404 rows x 8 columns]"
      ]
     },
     "execution_count": 6,
     "metadata": {},
     "output_type": "execute_result"
    }
   ],
   "source": [
    "MLR.data"
   ]
  },
  {
   "cell_type": "code",
   "execution_count": 5,
   "id": "e67a07a0",
   "metadata": {},
   "outputs": [
    {
     "data": {
      "text/plain": [
       "{'id': '101-012-22322939-001',\n",
       " 'alias': 'Primary',\n",
       " 'currency': 'EUR',\n",
       " 'balance': '511100028.8576',\n",
       " 'createdByUserID': 22322939,\n",
       " 'createdTime': '2022-05-06T15:46:57.835020174Z',\n",
       " 'guaranteedStopLossOrderMode': 'ALLOWED',\n",
       " 'pl': '28.8576',\n",
       " 'resettablePL': '28.8576',\n",
       " 'resettablePLTime': '0',\n",
       " 'financing': '0.0',\n",
       " 'commission': '0.0',\n",
       " 'guaranteedExecutionFees': '0.0',\n",
       " 'marginRate': '0.02',\n",
       " 'openTradeCount': 0,\n",
       " 'openPositionCount': 0,\n",
       " 'pendingOrderCount': 0,\n",
       " 'hedgingEnabled': False,\n",
       " 'unrealizedPL': '0.0',\n",
       " 'NAV': '511100028.8576',\n",
       " 'marginUsed': '0.0',\n",
       " 'marginAvailable': '511100028.8576',\n",
       " 'positionValue': '0.0',\n",
       " 'marginCloseoutUnrealizedPL': '0.0',\n",
       " 'marginCloseoutNAV': '511100028.8576',\n",
       " 'marginCloseoutMarginUsed': '0.0',\n",
       " 'marginCloseoutPercent': '0.0',\n",
       " 'marginCloseoutPositionValue': '0.0',\n",
       " 'withdrawalLimit': '511100028.8576',\n",
       " 'marginCallMarginUsed': '0.0',\n",
       " 'marginCallPercent': '0.0',\n",
       " 'lastTransactionID': '55'}"
      ]
     },
     "execution_count": 5,
     "metadata": {},
     "output_type": "execute_result"
    }
   ],
   "source": [
    "MLR.api.get_account_summary()"
   ]
  },
  {
   "cell_type": "code",
   "execution_count": null,
   "id": "60b84517",
   "metadata": {},
   "outputs": [],
   "source": []
  }
 ],
 "metadata": {
  "kernelspec": {
   "display_name": "Python 3 (ipykernel)",
   "language": "python",
   "name": "python3"
  },
  "language_info": {
   "codemirror_mode": {
    "name": "ipython",
    "version": 3
   },
   "file_extension": ".py",
   "mimetype": "text/x-python",
   "name": "python",
   "nbconvert_exporter": "python",
   "pygments_lexer": "ipython3",
   "version": "3.8.13"
  },
  "widgets": {
   "application/vnd.jupyter.widget-state+json": {
    "state": {},
    "version_major": 2,
    "version_minor": 0
   }
  }
 },
 "nbformat": 4,
 "nbformat_minor": 5
}
